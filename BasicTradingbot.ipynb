{
 "cells": [
  {
   "cell_type": "code",
   "execution_count": 60,
   "id": "f8cb2654-9ddf-4647-af64-d892bfe7397b",
   "metadata": {},
   "outputs": [],
   "source": [
    "from binance.client import Client\n",
    "from binance.enums import *"
   ]
  },
  {
   "cell_type": "code",
   "execution_count": 75,
   "id": "3854436a-8324-4b07-9f24-cf503c0f3f56",
   "metadata": {},
   "outputs": [],
   "source": [
    "API_KEY = \"\"\n",
    "API_SECRET = \"\""
   ]
  },
  {
   "cell_type": "code",
   "execution_count": 62,
   "id": "bd2cb299-eecd-414b-8bfc-223daadb89e2",
   "metadata": {},
   "outputs": [],
   "source": [
    "client = Client(API_KEY,API_SECRET, tld = 'com')"
   ]
  },
  {
   "cell_type": "code",
   "execution_count": null,
   "id": "290b5def-6647-426f-b2ab-e794d2ac8eb2",
   "metadata": {},
   "outputs": [],
   "source": []
  },
  {
   "cell_type": "code",
   "execution_count": 63,
   "id": "f1cfa6b8-9568-4e34-ab2e-28d652835b48",
   "metadata": {},
   "outputs": [],
   "source": [
    "def obtener_todos_los_tickers_binance():\n",
    "    lista_tickers = client.get_all_tickers()\n",
    "    \n",
    "    for ticker in lista_tickers:\n",
    "        symbol = ticker['symbol']\n",
    "        price = ticker['price']\n",
    "    \n",
    "        print(\"Simbolo: \" + symbol + \"Precio:\" + price)\n",
    "    "
   ]
  },
  {
   "cell_type": "code",
   "execution_count": null,
   "id": "1b9ff165-1a6b-42a1-8775-943435a3eee4",
   "metadata": {},
   "outputs": [],
   "source": [
    "#Cambiar en caso de querer un intervalo de 1 hora, siguiendo el código de una hora que está al final de la hoja\n",
    "#Change if you want a 1-hour interval, following the 1-hour code at the bottom."
   ]
  },
  {
   "cell_type": "code",
   "execution_count": 64,
   "id": "d2f019be-7554-4336-8fae-29b011c4749b",
   "metadata": {},
   "outputs": [],
   "source": [
    "def SMA_INTERVALO_4HS(periodo,ticker):\n",
    "    lista_precios_cierre = []\n",
    "    \n",
    "    data_historical = client.get_historical_klines(ticker,Client.KLINE_INTERVAL_4HOUR,'800 hour ago UTC')\n",
    "    \n",
    "    print(\"cantidad de velas: \",len(data_historical))\n",
    "    \n",
    "    sumatoria = 0\n",
    "    \n",
    "    if len(data_historical) == 200:\n",
    "    \n",
    "        print(\"se obtuvieron los datos correctamente\")\n",
    "    \n",
    "        for i in range((200 - periodo), 200):\n",
    "            #print(data_historical[i])\n",
    "        \n",
    "            sumatoria += float(data_historical[i][4])\n",
    "    \n",
    "        sma=sumatoria/periodo\n",
    "        print(\"SMA: \" + ticker + \" Periodo:\" + str(periodo) + \":\" + str(sma))\n",
    "        return(sma)\n",
    "\n",
    "    else:\n",
    "        print(\"no se pudo obtener el historial de velas\")"
   ]
  },
  {
   "cell_type": "code",
   "execution_count": null,
   "id": "a4d99c97-60e3-45dd-8f12-0779aa4b4ee7",
   "metadata": {},
   "outputs": [],
   "source": [
    "#Cambia 200 por el período que desees y BTCUSDT por la criptomoneda que quieras de Binance.\n",
    "#Replace 200 with the period you want and BTCUSDT with the cryptocurrency you want from Binance."
   ]
  },
  {
   "cell_type": "code",
   "execution_count": 67,
   "id": "4461b869-228d-45b7-8021-e756cb09227f",
   "metadata": {},
   "outputs": [
    {
     "name": "stdout",
     "output_type": "stream",
     "text": [
      "cantidad de velas:  200\n",
      "se obtuvieron los datos correctamente\n",
      "SMA: BTCUSDT Periodo:200:117616.57699999998\n"
     ]
    }
   ],
   "source": [
    "#sma200 = SMA_INTERVALO_4HS(200,'BTCUSDT')"
   ]
  },
  {
   "cell_type": "code",
   "execution_count": null,
   "id": "364efd79-326f-4699-baec-68ae6c969c27",
   "metadata": {},
   "outputs": [],
   "source": [
    "\n",
    "\n",
    "\n",
    "\n",
    "\n",
    "\n"
   ]
  },
  {
   "cell_type": "code",
   "execution_count": null,
   "id": "5b5923d4-7026-4bd9-9426-21ce293fe3b6",
   "metadata": {},
   "outputs": [],
   "source": [
    "# ESTRATEGIA TRIPLE CRUCE 4 9 18\n",
    "#4-9-18 Triple Moving Average Crossover Strategy"
   ]
  },
  {
   "cell_type": "code",
   "execution_count": 74,
   "id": "6310ba9d-ee53-433a-a28d-7f1ac163c8da",
   "metadata": {},
   "outputs": [
    {
     "name": "stdout",
     "output_type": "stream",
     "text": [
      "cantidad de velas:  200\n",
      "se obtuvieron los datos correctamente\n",
      "SMA: BTCUSDT Periodo:4:118069.2\n"
     ]
    }
   ],
   "source": [
    "sma4 = SMA_INTERVALO_4HS(4,'BTCUSDT')"
   ]
  },
  {
   "cell_type": "code",
   "execution_count": 71,
   "id": "f5d037ed-7e6c-4760-b167-332a10cb7bfa",
   "metadata": {},
   "outputs": [
    {
     "name": "stdout",
     "output_type": "stream",
     "text": [
      "cantidad de velas:  200\n",
      "se obtuvieron los datos correctamente\n",
      "SMA: BTCUSDT Periodo:9:118547.97666666664\n"
     ]
    }
   ],
   "source": [
    "sma9 = SMA_INTERVALO_4HS(9,'BTCUSDT')"
   ]
  },
  {
   "cell_type": "code",
   "execution_count": 72,
   "id": "ba836310-e788-4c55-93fb-98a35c303fcc",
   "metadata": {},
   "outputs": [
    {
     "name": "stdout",
     "output_type": "stream",
     "text": [
      "cantidad de velas:  200\n",
      "se obtuvieron los datos correctamente\n",
      "SMA: BTCUSDT Periodo:18:119929.5772222222\n"
     ]
    }
   ],
   "source": [
    "sma18 = SMA_INTERVALO_4HS(18,'BTCUSDT')"
   ]
  },
  {
   "cell_type": "code",
   "execution_count": 73,
   "id": "02df451b-f60b-4d59-82f8-ba6e91cd30c6",
   "metadata": {},
   "outputs": [
    {
     "name": "stdout",
     "output_type": "stream",
     "text": [
      "no se esta cumpliendo la estrategia triple cruce SMA 4 9 18\n"
     ]
    }
   ],
   "source": [
    "if sma4 > sma9 and sma4 > sma18:\n",
    "    print(\"se esta cumpliendo la estrategia triple cruce SMA 4 9 18\")\n",
    "else:\n",
    "    print(\"no se esta cumpliendo la estrategia triple cruce SMA 4 9 18\")"
   ]
  },
  {
   "cell_type": "code",
   "execution_count": null,
   "id": "6b51f1e8-4b8c-43ab-85bc-69557a46b72a",
   "metadata": {},
   "outputs": [],
   "source": [
    "\n",
    "\n",
    "\n",
    "\n",
    "\n",
    "\n",
    "\n",
    "\n",
    "\n",
    "\n",
    "\n",
    "\n",
    "\n",
    "\n",
    "\n",
    "\n",
    "\n",
    "\n",
    "\n",
    "\n",
    "\n"
   ]
  },
  {
   "cell_type": "code",
   "execution_count": null,
   "id": "4e655712-24b0-43b9-8db0-cca046e43997",
   "metadata": {},
   "outputs": [],
   "source": [
    "#Temporalidad de 4 horas / 4-hour timeframe Example code"
   ]
  },
  {
   "cell_type": "code",
   "execution_count": null,
   "id": "cf9a635e-3b4f-4004-8667-71b5d93b8d17",
   "metadata": {},
   "outputs": [],
   "source": []
  },
  {
   "cell_type": "code",
   "execution_count": 56,
   "id": "fa172e65-88d0-4333-a692-bfb42329c145",
   "metadata": {},
   "outputs": [],
   "source": [
    "lista_precios_cierre = []"
   ]
  },
  {
   "cell_type": "code",
   "execution_count": 47,
   "id": "b0e49835-8904-4fa3-a45b-8fc1b95f2125",
   "metadata": {},
   "outputs": [],
   "source": [
    "data_historical = client.get_historical_klines('BTCUSDT',Client.KLINE_INTERVAL_4HOUR,'800 hour ago UTC')"
   ]
  },
  {
   "cell_type": "code",
   "execution_count": 42,
   "id": "65b20b96-96cd-42b7-bc43-b000d6d3b1ef",
   "metadata": {},
   "outputs": [
    {
     "name": "stdout",
     "output_type": "stream",
     "text": [
      "cantidad de velas:  200\n"
     ]
    }
   ],
   "source": [
    "print(\"cantidad de velas: \",len(data_historical))"
   ]
  },
  {
   "cell_type": "code",
   "execution_count": 43,
   "id": "b407a10f-a93e-4b92-9783-1748f29e56b9",
   "metadata": {},
   "outputs": [],
   "source": [
    "sumatoria = 0"
   ]
  },
  {
   "cell_type": "code",
   "execution_count": 48,
   "id": "91b5c262-af08-41bd-beee-cb6177a302e1",
   "metadata": {},
   "outputs": [
    {
     "name": "stdout",
     "output_type": "stream",
     "text": [
      "se obtuvieron los datos correctamente\n",
      "SMA 200 BTCUSDT:  235233.15589999978\n"
     ]
    }
   ],
   "source": [
    "if len(data_historical) == 200:\n",
    "    \n",
    "    print(\"se obtuvieron los datos correctamente\")\n",
    "    \n",
    "    for i in range((200 - 200), 200):\n",
    "        #print(data_historical[i])\n",
    "        \n",
    "        sumatoria += float(data_historical[i][4])\n",
    "    \n",
    "    sma=sumatoria/200\n",
    "    print(\"SMA 200 BTCUSDT: \", sma)\n",
    "\n",
    "else:\n",
    "    print(\"no se pudo obtener el historial de velas\")"
   ]
  },
  {
   "cell_type": "code",
   "execution_count": null,
   "id": "f57110eb-51ae-4ecd-8e0f-26dd315ca73f",
   "metadata": {},
   "outputs": [],
   "source": [
    "\n",
    "\n",
    "\n",
    "\n",
    "\n",
    "\n",
    "\n",
    "\n",
    "\n",
    "\n",
    "\n",
    "\n",
    "\n",
    "\n",
    "\n",
    "\n",
    "\n",
    "\n",
    "\n",
    "\n",
    "\n",
    "\n",
    "\n",
    "\n",
    "\n"
   ]
  },
  {
   "cell_type": "code",
   "execution_count": null,
   "id": "e595b272-0fc9-4777-9dde-202e19c4892c",
   "metadata": {},
   "outputs": [],
   "source": []
  },
  {
   "cell_type": "code",
   "execution_count": null,
   "id": "253c4bfe-3322-4aad-bd0a-404d1f53f380",
   "metadata": {},
   "outputs": [],
   "source": [
    "#TEMPORALIDAD DE 1 HORA / 1-HOUR TIMEFRAME Example code"
   ]
  },
  {
   "cell_type": "code",
   "execution_count": 57,
   "id": "83c37d49-aca5-4251-a37b-7da6ab38ef6a",
   "metadata": {},
   "outputs": [],
   "source": [
    "lista_precios_cierre = []"
   ]
  },
  {
   "cell_type": "code",
   "execution_count": 49,
   "id": "12cf5554-6714-476f-8d7a-8e54e71fae5e",
   "metadata": {},
   "outputs": [],
   "source": [
    "data_historical = client.get_historical_klines('BTCUSDT',Client.KLINE_INTERVAL_1HOUR,'800 hour ago UTC')"
   ]
  },
  {
   "cell_type": "code",
   "execution_count": 50,
   "id": "d0f42eb3-ea4b-47a8-9dc6-ec726261b5ff",
   "metadata": {},
   "outputs": [
    {
     "name": "stdout",
     "output_type": "stream",
     "text": [
      "cantidad de velas:  800\n"
     ]
    }
   ],
   "source": [
    "print(\"cantidad de velas: \",len(data_historical))"
   ]
  },
  {
   "cell_type": "code",
   "execution_count": 51,
   "id": "8ee57bc6-920f-4159-9234-b5be2cca4840",
   "metadata": {},
   "outputs": [],
   "source": [
    "sumatoria = 0"
   ]
  },
  {
   "cell_type": "code",
   "execution_count": 54,
   "id": "869cb697-df83-4d89-9b28-6c77b42b9b5c",
   "metadata": {},
   "outputs": [
    {
     "name": "stdout",
     "output_type": "stream",
     "text": [
      "se obtuvieron los datos correctamente\n",
      "SMA 200 BTCUSDT:  237331.58450000023\n"
     ]
    }
   ],
   "source": [
    "if len(data_historical) == 800:\n",
    "    \n",
    "    print(\"se obtuvieron los datos correctamente\")\n",
    "    \n",
    "    for i in range((800 - 200), 800):\n",
    "        #print(data_historical[i])\n",
    "        \n",
    "        sumatoria += float(data_historical[i][4])\n",
    "    \n",
    "    sma=sumatoria/200\n",
    "    print(\"SMA 200 BTCUSDT: \", sma)\n",
    "\n",
    "else:\n",
    "    print(\"no se pudo obtener el historial de velas\")"
   ]
  }
 ],
 "metadata": {
  "kernelspec": {
   "display_name": "Python [conda env:base] *",
   "language": "python",
   "name": "conda-base-py"
  },
  "language_info": {
   "codemirror_mode": {
    "name": "ipython",
    "version": 3
   },
   "file_extension": ".py",
   "mimetype": "text/x-python",
   "name": "python",
   "nbconvert_exporter": "python",
   "pygments_lexer": "ipython3",
   "version": "3.12.7"
  }
 },
 "nbformat": 4,
 "nbformat_minor": 5
}
